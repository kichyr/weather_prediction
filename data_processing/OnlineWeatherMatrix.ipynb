{
 "cells": [
  {
   "cell_type": "code",
   "execution_count": 5,
   "metadata": {},
   "outputs": [],
   "source": [
    "import numpy as np\n",
    "import pandas as pd\n",
    "import time\n",
    "import datetime\n"
   ]
  },
  {
   "cell_type": "code",
   "execution_count": 6,
   "metadata": {},
   "outputs": [],
   "source": [
    "data = pd.read_csv('worldweatheronline.com/result_data.csv')"
   ]
  },
  {
   "cell_type": "code",
   "execution_count": 7,
   "metadata": {},
   "outputs": [],
   "source": [
    "table0 = data[['date', 'time', 'tempC', 'weatherDesc']]"
   ]
  },
  {
   "cell_type": "code",
   "execution_count": 8,
   "metadata": {},
   "outputs": [
    {
     "data": {
      "text/html": [
       "<div>\n",
       "<style scoped>\n",
       "    .dataframe tbody tr th:only-of-type {\n",
       "        vertical-align: middle;\n",
       "    }\n",
       "\n",
       "    .dataframe tbody tr th {\n",
       "        vertical-align: top;\n",
       "    }\n",
       "\n",
       "    .dataframe thead th {\n",
       "        text-align: right;\n",
       "    }\n",
       "</style>\n",
       "<table border=\"1\" class=\"dataframe\">\n",
       "  <thead>\n",
       "    <tr style=\"text-align: right;\">\n",
       "      <th></th>\n",
       "      <th>date</th>\n",
       "      <th>time</th>\n",
       "      <th>tempC</th>\n",
       "      <th>weatherDesc</th>\n",
       "    </tr>\n",
       "  </thead>\n",
       "  <tbody>\n",
       "    <tr>\n",
       "      <th>0</th>\n",
       "      <td>2009-04-01</td>\n",
       "      <td>0</td>\n",
       "      <td>0</td>\n",
       "      <td>Light sleet</td>\n",
       "    </tr>\n",
       "    <tr>\n",
       "      <th>1</th>\n",
       "      <td>2009-04-01</td>\n",
       "      <td>1200</td>\n",
       "      <td>2</td>\n",
       "      <td>Light drizzle</td>\n",
       "    </tr>\n",
       "    <tr>\n",
       "      <th>2</th>\n",
       "      <td>2009-04-02</td>\n",
       "      <td>0</td>\n",
       "      <td>0</td>\n",
       "      <td>Heavy snow</td>\n",
       "    </tr>\n",
       "    <tr>\n",
       "      <th>3</th>\n",
       "      <td>2009-04-02</td>\n",
       "      <td>1200</td>\n",
       "      <td>1</td>\n",
       "      <td>Heavy snow</td>\n",
       "    </tr>\n",
       "    <tr>\n",
       "      <th>4</th>\n",
       "      <td>2009-04-03</td>\n",
       "      <td>0</td>\n",
       "      <td>-3</td>\n",
       "      <td>Moderate snow</td>\n",
       "    </tr>\n",
       "  </tbody>\n",
       "</table>\n",
       "</div>"
      ],
      "text/plain": [
       "         date  time  tempC    weatherDesc\n",
       "0  2009-04-01     0      0    Light sleet\n",
       "1  2009-04-01  1200      2  Light drizzle\n",
       "2  2009-04-02     0      0     Heavy snow\n",
       "3  2009-04-02  1200      1     Heavy snow\n",
       "4  2009-04-03     0     -3  Moderate snow"
      ]
     },
     "execution_count": 8,
     "metadata": {},
     "output_type": "execute_result"
    }
   ],
   "source": [
    "table0.head()"
   ]
  },
  {
   "cell_type": "code",
   "execution_count": 9,
   "metadata": {},
   "outputs": [
    {
     "name": "stderr",
     "output_type": "stream",
     "text": [
      "/var/folders/yc/jct8g08s4pdfb9kr_t5r7m8r0000gq/T/ipykernel_20056/99024874.py:1: SettingWithCopyWarning: \n",
      "A value is trying to be set on a copy of a slice from a DataFrame.\n",
      "Try using .loc[row_indexer,col_indexer] = value instead\n",
      "\n",
      "See the caveats in the documentation: https://pandas.pydata.org/pandas-docs/stable/user_guide/indexing.html#returning-a-view-versus-a-copy\n",
      "  table0['day'] = [time.strptime(n, \"%Y-%m-%d\").tm_mday for n in table0['date']]\n",
      "/var/folders/yc/jct8g08s4pdfb9kr_t5r7m8r0000gq/T/ipykernel_20056/99024874.py:2: SettingWithCopyWarning: \n",
      "A value is trying to be set on a copy of a slice from a DataFrame.\n",
      "Try using .loc[row_indexer,col_indexer] = value instead\n",
      "\n",
      "See the caveats in the documentation: https://pandas.pydata.org/pandas-docs/stable/user_guide/indexing.html#returning-a-view-versus-a-copy\n",
      "  table0['month'] = [time.strptime(n, \"%Y-%m-%d\").tm_mon for n in table0['date']]\n",
      "/var/folders/yc/jct8g08s4pdfb9kr_t5r7m8r0000gq/T/ipykernel_20056/99024874.py:3: SettingWithCopyWarning: \n",
      "A value is trying to be set on a copy of a slice from a DataFrame.\n",
      "Try using .loc[row_indexer,col_indexer] = value instead\n",
      "\n",
      "See the caveats in the documentation: https://pandas.pydata.org/pandas-docs/stable/user_guide/indexing.html#returning-a-view-versus-a-copy\n",
      "  table0['year'] = [time.strptime(n, \"%Y-%m-%d\").tm_year for n in table0['date']]\n",
      "/var/folders/yc/jct8g08s4pdfb9kr_t5r7m8r0000gq/T/ipykernel_20056/99024874.py:4: SettingWithCopyWarning: \n",
      "A value is trying to be set on a copy of a slice from a DataFrame.\n",
      "Try using .loc[row_indexer,col_indexer] = value instead\n",
      "\n",
      "See the caveats in the documentation: https://pandas.pydata.org/pandas-docs/stable/user_guide/indexing.html#returning-a-view-versus-a-copy\n",
      "  table0['status'] = [0 if n == 0 else 1 for n in table0['time']]\n",
      "/var/folders/yc/jct8g08s4pdfb9kr_t5r7m8r0000gq/T/ipykernel_20056/99024874.py:5: SettingWithCopyWarning: \n",
      "A value is trying to be set on a copy of a slice from a DataFrame\n",
      "\n",
      "See the caveats in the documentation: https://pandas.pydata.org/pandas-docs/stable/user_guide/indexing.html#returning-a-view-versus-a-copy\n",
      "  table0.drop(['date'], axis='columns', inplace=True)\n"
     ]
    }
   ],
   "source": [
    "table0['day'] = [time.strptime(n, \"%Y-%m-%d\").tm_mday for n in table0['date']]\n",
    "table0['month'] = [time.strptime(n, \"%Y-%m-%d\").tm_mon for n in table0['date']]\n",
    "table0['year'] = [time.strptime(n, \"%Y-%m-%d\").tm_year for n in table0['date']]\n",
    "table0['status'] = [0 if n == 0 else 1 for n in table0['time']]\n",
    "table0.drop(['date'], axis='columns', inplace=True)"
   ]
  },
  {
   "cell_type": "code",
   "execution_count": 10,
   "metadata": {},
   "outputs": [],
   "source": [
    "table1 = table0.loc[(table0['month'] == 1)]\n",
    "table2 = table0.loc[(table0['month'] == 2)]\n",
    "table3 = table0.loc[(table0['month'] == 3)]\n",
    "table4 = table0.loc[(table0['month'] == 4)]\n",
    "table5 = table0.loc[(table0['month'] == 5)]\n",
    "table6 = table0.loc[(table0['month'] == 6)]\n",
    "table7 = table0.loc[(table0['month'] == 7)]\n",
    "table8 = table0.loc[(table0['month'] == 8)]\n",
    "table9 = table0.loc[(table0['month'] == 9)]\n",
    "table10 = table0.loc[(table0['month'] == 10)]\n",
    "table11 = table0.loc[(table0['month'] == 11)]\n",
    "table12 = table0.loc[(table0['month'] == 12)]\n",
    "table_np1 = table1.values\n",
    "table_np2 = table2.values\n",
    "table_np3 = table3.values\n",
    "table_np4 = table4.values\n",
    "table_np5 = table5.values\n",
    "table_np6 = table6.values\n",
    "table_np7 = table7.values\n",
    "table_np8 = table8.values\n",
    "table_np9 = table9.values\n",
    "table_np10 = table10.values\n",
    "table_np11 = table11.values\n",
    "table_np12 = table12.values"
   ]
  },
  {
   "cell_type": "code",
   "execution_count": 11,
   "metadata": {},
   "outputs": [
    {
     "data": {
      "text/html": [
       "<div>\n",
       "<style scoped>\n",
       "    .dataframe tbody tr th:only-of-type {\n",
       "        vertical-align: middle;\n",
       "    }\n",
       "\n",
       "    .dataframe tbody tr th {\n",
       "        vertical-align: top;\n",
       "    }\n",
       "\n",
       "    .dataframe thead th {\n",
       "        text-align: right;\n",
       "    }\n",
       "</style>\n",
       "<table border=\"1\" class=\"dataframe\">\n",
       "  <thead>\n",
       "    <tr style=\"text-align: right;\">\n",
       "      <th></th>\n",
       "      <th>time</th>\n",
       "      <th>tempC</th>\n",
       "      <th>weatherDesc</th>\n",
       "      <th>day</th>\n",
       "      <th>month</th>\n",
       "      <th>year</th>\n",
       "      <th>status</th>\n",
       "    </tr>\n",
       "  </thead>\n",
       "  <tbody>\n",
       "    <tr>\n",
       "      <th>550</th>\n",
       "      <td>0</td>\n",
       "      <td>-11</td>\n",
       "      <td>Light snow</td>\n",
       "      <td>1</td>\n",
       "      <td>1</td>\n",
       "      <td>2010</td>\n",
       "      <td>0</td>\n",
       "    </tr>\n",
       "    <tr>\n",
       "      <th>551</th>\n",
       "      <td>1200</td>\n",
       "      <td>-7</td>\n",
       "      <td>Freezing fog</td>\n",
       "      <td>1</td>\n",
       "      <td>1</td>\n",
       "      <td>2010</td>\n",
       "      <td>1</td>\n",
       "    </tr>\n",
       "    <tr>\n",
       "      <th>552</th>\n",
       "      <td>0</td>\n",
       "      <td>-13</td>\n",
       "      <td>Freezing fog</td>\n",
       "      <td>2</td>\n",
       "      <td>1</td>\n",
       "      <td>2010</td>\n",
       "      <td>0</td>\n",
       "    </tr>\n",
       "    <tr>\n",
       "      <th>553</th>\n",
       "      <td>1200</td>\n",
       "      <td>-9</td>\n",
       "      <td>Overcast</td>\n",
       "      <td>2</td>\n",
       "      <td>1</td>\n",
       "      <td>2010</td>\n",
       "      <td>1</td>\n",
       "    </tr>\n",
       "    <tr>\n",
       "      <th>554</th>\n",
       "      <td>0</td>\n",
       "      <td>-13</td>\n",
       "      <td>Moderate snow</td>\n",
       "      <td>3</td>\n",
       "      <td>1</td>\n",
       "      <td>2010</td>\n",
       "      <td>0</td>\n",
       "    </tr>\n",
       "  </tbody>\n",
       "</table>\n",
       "</div>"
      ],
      "text/plain": [
       "     time  tempC    weatherDesc  day  month  year  status\n",
       "550     0    -11     Light snow    1      1  2010       0\n",
       "551  1200     -7   Freezing fog    1      1  2010       1\n",
       "552     0    -13   Freezing fog    2      1  2010       0\n",
       "553  1200     -9       Overcast    2      1  2010       1\n",
       "554     0    -13  Moderate snow    3      1  2010       0"
      ]
     },
     "execution_count": 11,
     "metadata": {},
     "output_type": "execute_result"
    }
   ],
   "source": [
    "table1.head()"
   ]
  },
  {
   "cell_type": "code",
   "execution_count": 12,
   "metadata": {},
   "outputs": [],
   "source": [
    "def preprocessing(data):\n",
    "    processing_data = data\n",
    "    for i in processing_data:\n",
    "        if i[2] in {'Thundery outbreaks possible','Moderate rain',\n",
    "                    'Light drizzle','Light freezing rain','Moderate or heavy rain shower',\n",
    "                    'Patchy rain possible','Light rain shower','Patchy light drizzle',\n",
    "                    'Light rain','Moderate or heavy rain with thunder',\n",
    "                    'Moderate rain at times', 'Heavy rain','Patchy light rain',\n",
    "                    'Patchy light rain with thunder'}:\n",
    "            i[2] = 2\n",
    "        elif i[2] in {'Light snow','Patchy moderate snow','Heavy freezing drizzle',\n",
    "                      'Moderate snow', 'Heavy snow', 'Light snow showers',\n",
    "                      'Moderate or heavy sleet', 'Moderate or heavy snow showers',\n",
    "                      'Light sleet','Light sleet showers','Patchy snow possible',\n",
    "                      'Blizzard','Patchy heavy snow','Patchy light snow'}:\n",
    "            i[2] = 3\n",
    "        elif i[2] in {'Fog','Overcast','Freezing fog','Mist','Partly cloudy'}:\n",
    "            i[2] = 1\n",
    "        else:\n",
    "            i[2] = 0\n",
    "    return processing_data"
   ]
  },
  {
   "cell_type": "code",
   "execution_count": 13,
   "metadata": {},
   "outputs": [],
   "source": [
    "def func_coef(data):\n",
    "    #total = data.shape[0]\n",
    "    rainy = 0\n",
    "    sunny = 0\n",
    "    snowy = 0\n",
    "    cloudy = 0\n",
    "    matrix = np.zeros((4, 4))\n",
    "    i = 0\n",
    "    while i < data.shape[0]-1:\n",
    "        if data[i][2] == 2:\n",
    "            rainy += 1\n",
    "            matrix[2][data[i+1][2]] += 1 \n",
    "        elif data[i][2] == 3:\n",
    "            snowy += 1\n",
    "            matrix[3][data[i+1][2]] += 1\n",
    "        elif data[i][2] == 1:\n",
    "            cloudy += 1\n",
    "            matrix[1][data[i+1][2]] += 1\n",
    "        else:\n",
    "            sunny += 1\n",
    "            matrix[0][data[i+1][2]] += 1\n",
    "        i += 1 \n",
    "    if sunny > 0:\n",
    "        matrix[0] = matrix[0] / sunny\n",
    "    elif sunny == 0:\n",
    "        matrix[0] = [0.25, 0.25, 0.25, 0.25]\n",
    "    if cloudy > 0:\n",
    "        matrix[1] = matrix[1] / cloudy\n",
    "    elif cloudy == 0:\n",
    "        matrix[1] = [0.25, 0.25, 0.25, 0.25]\n",
    "    if rainy > 0:\n",
    "        matrix[2] = matrix[2] / rainy\n",
    "    elif rainy == 0:\n",
    "        matrix[2] = [0.25, 0.25, 0.25, 0.25]\n",
    "    if snowy > 0:\n",
    "        matrix[3] = matrix[3] / snowy\n",
    "    elif snowy == 0:\n",
    "        matrix[3] = [0.25, 0.25, 0.25, 0.25]\n",
    "    return matrix"
   ]
  },
  {
   "cell_type": "code",
   "execution_count": 14,
   "metadata": {},
   "outputs": [],
   "source": [
    "t1 = preprocessing(table_np1)\n",
    "t2 = preprocessing(table_np2)\n",
    "t3 = preprocessing(table_np3)\n",
    "t4 = preprocessing(table_np4)\n",
    "t5 = preprocessing(table_np5)\n",
    "t6 = preprocessing(table_np6)\n",
    "t7 = preprocessing(table_np7)\n",
    "t8 = preprocessing(table_np8)\n",
    "t9 = preprocessing(table_np9)\n",
    "t10 = preprocessing(table_np10)\n",
    "t11 = preprocessing(table_np11)\n",
    "t12 = preprocessing(table_np12)"
   ]
  },
  {
   "cell_type": "code",
   "execution_count": 15,
   "metadata": {},
   "outputs": [],
   "source": [
    "M1 = func_coef(t1)\n",
    "M2 = func_coef(t2)\n",
    "M3 = func_coef(t3)\n",
    "M4 = func_coef(t4)\n",
    "M5 = func_coef(t5)\n",
    "M6 = func_coef(t6)\n",
    "M7 = func_coef(t7)\n",
    "M8 = func_coef(t8)\n",
    "M9 = func_coef(t9)\n",
    "M10 = func_coef(t10)\n",
    "M11 = func_coef(t11)\n",
    "M12 = func_coef(t12)"
   ]
  },
  {
   "cell_type": "code",
   "execution_count": 16,
   "metadata": {},
   "outputs": [
    {
     "data": {
      "text/plain": [
       "array([[0.26984127, 0.46031746, 0.03174603, 0.23809524],\n",
       "       [0.08196721, 0.54098361, 0.01639344, 0.36065574],\n",
       "       [0.        , 0.23076923, 0.15384615, 0.61538462],\n",
       "       [0.0495283 , 0.25707547, 0.00943396, 0.68396226]])"
      ]
     },
     "execution_count": 16,
     "metadata": {},
     "output_type": "execute_result"
    }
   ],
   "source": [
    "M1"
   ]
  },
  {
   "cell_type": "code",
   "execution_count": 17,
   "metadata": {},
   "outputs": [],
   "source": [
    "M = np.array([])\n",
    "M = np.append(M, M1)\n",
    "M = np.append(M, M2)\n",
    "M = np.append(M, M3)\n",
    "M = np.append(M, M4)\n",
    "M = np.append(M, M5)\n",
    "M = np.append(M, M6)\n",
    "M = np.append(M, M7)\n",
    "M = np.append(M, M8)\n",
    "M = np.append(M, M9)\n",
    "M = np.append(M, M10)\n",
    "M = np.append(M, M11)\n",
    "M = np.append(M, M12)"
   ]
  },
  {
   "cell_type": "code",
   "execution_count": 18,
   "metadata": {},
   "outputs": [],
   "source": [
    "M = np.reshape(M, (12,4,4))"
   ]
  },
  {
   "cell_type": "code",
   "execution_count": 19,
   "metadata": {},
   "outputs": [],
   "source": [
    "np.save('matrices/matrix1', M)  "
   ]
  },
  {
   "cell_type": "code",
   "execution_count": 20,
   "metadata": {},
   "outputs": [],
   "source": [
    "my_matrix = np.load(open(\"matrices/matrix1.npy\",\"rb\"))"
   ]
  },
  {
   "cell_type": "code",
   "execution_count": 21,
   "metadata": {},
   "outputs": [
    {
     "data": {
      "text/plain": [
       "array([[[0.26984127, 0.46031746, 0.03174603, 0.23809524],\n",
       "        [0.08196721, 0.54098361, 0.01639344, 0.36065574],\n",
       "        [0.        , 0.23076923, 0.15384615, 0.61538462],\n",
       "        [0.0495283 , 0.25707547, 0.00943396, 0.68396226]],\n",
       "\n",
       "       [[0.24637681, 0.50724638, 0.01449275, 0.23188406],\n",
       "        [0.09797297, 0.51013514, 0.02027027, 0.37162162],\n",
       "        [0.06666667, 0.4       , 0.2       , 0.33333333],\n",
       "        [0.06232295, 0.29745042, 0.01416431, 0.62606232]],\n",
       "\n",
       "       [[0.25663717, 0.48672566, 0.04424779, 0.21238938],\n",
       "        [0.15015974, 0.514377  , 0.07348243, 0.26198083],\n",
       "        [0.05555556, 0.38888889, 0.27777778, 0.27777778],\n",
       "        [0.11409396, 0.25838926, 0.03691275, 0.59060403]],\n",
       "\n",
       "       [[0.48214286, 0.35714286, 0.11160714, 0.04910714],\n",
       "        [0.25      , 0.44520548, 0.21575342, 0.0890411 ],\n",
       "        [0.1625    , 0.3375    , 0.3875    , 0.1125    ],\n",
       "        [0.16504854, 0.27184466, 0.10679612, 0.45631068]],\n",
       "\n",
       "       [[0.58419244, 0.2371134 , 0.17869416, 0.        ],\n",
       "        [0.25688073, 0.36697248, 0.37155963, 0.00458716],\n",
       "        [0.221843  , 0.23208191, 0.53924915, 0.00682594],\n",
       "        [0.        , 0.66666667, 0.33333333, 0.        ]],\n",
       "\n",
       "       [[0.49819495, 0.3032491 , 0.19855596, 0.        ],\n",
       "        [0.27067669, 0.43233083, 0.29699248, 0.        ],\n",
       "        [0.27966102, 0.28389831, 0.43644068, 0.        ],\n",
       "        [0.25      , 0.25      , 0.25      , 0.25      ]],\n",
       "\n",
       "       [[0.48449612, 0.29844961, 0.21705426, 0.        ],\n",
       "        [0.2398524 , 0.42066421, 0.33948339, 0.        ],\n",
       "        [0.24275362, 0.29347826, 0.46376812, 0.        ],\n",
       "        [0.25      , 0.25      , 0.25      , 0.25      ]],\n",
       "\n",
       "       [[0.63709677, 0.19623656, 0.16666667, 0.        ],\n",
       "        [0.2972973 , 0.40540541, 0.2972973 , 0.        ],\n",
       "        [0.32701422, 0.27962085, 0.39336493, 0.        ],\n",
       "        [0.25      , 0.25      , 0.25      , 0.25      ]],\n",
       "\n",
       "       [[0.49253731, 0.3619403 , 0.14179104, 0.00373134],\n",
       "        [0.33225806, 0.4516129 , 0.21612903, 0.        ],\n",
       "        [0.155     , 0.37      , 0.475     , 0.        ],\n",
       "        [1.        , 0.        , 0.        , 0.        ]],\n",
       "\n",
       "       [[0.44067797, 0.40254237, 0.12288136, 0.03389831],\n",
       "        [0.29761905, 0.45833333, 0.16369048, 0.08035714],\n",
       "        [0.11515152, 0.38787879, 0.45454545, 0.04242424],\n",
       "        [0.19117647, 0.33823529, 0.08823529, 0.38235294]],\n",
       "\n",
       "       [[0.47342995, 0.35748792, 0.07246377, 0.09661836],\n",
       "        [0.22145329, 0.46366782, 0.14186851, 0.17301038],\n",
       "        [0.1512605 , 0.30252101, 0.46218487, 0.08403361],\n",
       "        [0.16463415, 0.27439024, 0.04878049, 0.51219512]],\n",
       "\n",
       "       [[0.26530612, 0.52040816, 0.04081633, 0.17346939],\n",
       "        [0.11014493, 0.53043478, 0.05797101, 0.30144928],\n",
       "        [0.06976744, 0.37209302, 0.3255814 , 0.23255814],\n",
       "        [0.09717868, 0.29467085, 0.01567398, 0.59247649]]])"
      ]
     },
     "execution_count": 21,
     "metadata": {},
     "output_type": "execute_result"
    }
   ],
   "source": [
    "my_matrix"
   ]
  },
  {
   "cell_type": "markdown",
   "metadata": {},
   "source": [
    "$\\begin{equation*}\n",
    "T =\n",
    "\\begin{pmatrix}\n",
    "su\\rightarrow su & su\\rightarrow c  & su\\rightarrow r & su\\rightarrow sn\\\\\n",
    "c\\rightarrow su & c\\rightarrow c & c\\rightarrow r & c\\rightarrow sn\\\\\n",
    "r\\rightarrow su & r\\rightarrow c & r\\rightarrow r & r\\rightarrow sn\\\\\n",
    "sn\\rightarrow su & sn\\rightarrow c & sn\\rightarrow r & sn\\rightarrow sn\n",
    "\\end{pmatrix}\n",
    "\\end{equation*}$"
   ]
  },
  {
   "cell_type": "code",
   "execution_count": 22,
   "metadata": {},
   "outputs": [],
   "source": [
    "def temp_comp(data):\n",
    "    result = np.array([])\n",
    "    i = 0\n",
    "    while i < data.shape[0]-1:\n",
    "        if data[i+1][1] - data[i][1] < -5:\n",
    "            result = np.append(result, 0)\n",
    "        elif (data[i+1][1] - data[i][1] >= -5) and (data[i+1][1] - data[i][1] < -2):\n",
    "            result = np.append(result, 1)\n",
    "        elif (data[i+1][1] - data[i][1] >= -2) and (data[i+1][1] - data[i][1] <= 2):\n",
    "            result = np.append(result, 2)\n",
    "        elif (data[i+1][1] - data[i][1] > 2) and (data[i+1][1] - data[i][1] <= 5):\n",
    "            result = np.append(result, 3)\n",
    "        else:\n",
    "            result = np.append(result, 4)\n",
    "        i += 1\n",
    "    return result"
   ]
  },
  {
   "cell_type": "code",
   "execution_count": 23,
   "metadata": {},
   "outputs": [],
   "source": [
    "diff1 = temp_comp(t1)\n",
    "diff2 = temp_comp(t2)\n",
    "diff3 = temp_comp(t3)\n",
    "diff4 = temp_comp(t4)\n",
    "diff5 = temp_comp(t5)\n",
    "diff6 = temp_comp(t6)\n",
    "diff7 = temp_comp(t7)\n",
    "diff8 = temp_comp(t8)\n",
    "diff9 = temp_comp(t9)\n",
    "diff10 = temp_comp(t10)\n",
    "diff11 = temp_comp(t11)\n",
    "diff12 = temp_comp(t12)"
   ]
  },
  {
   "cell_type": "code",
   "execution_count": 24,
   "metadata": {},
   "outputs": [],
   "source": [
    "def temp_matrix(data):\n",
    "    l5 = 0\n",
    "    l2 = 0\n",
    "    b = 0\n",
    "    m2 = 0\n",
    "    m5 = 0\n",
    "    matrix = np.zeros((5, 5))\n",
    "    i = 0\n",
    "    while i < data.shape[0]-1:\n",
    "        if data[i] == 0:\n",
    "            l5 += 1\n",
    "            matrix[0][int(data[i+1])] += 1\n",
    "        elif data[i] == 1:\n",
    "            l2 += 1\n",
    "            matrix[1][int(data[i+1])] += 1\n",
    "        elif data[i] == 2:\n",
    "            b += 1\n",
    "            matrix[2][int(data[i+1])] += 1\n",
    "        elif data[i] == 3:\n",
    "            m2 += 1\n",
    "            matrix[3][int(data[i+1])] += 1\n",
    "        else:\n",
    "            m5 += 1\n",
    "            matrix[4][int(data[i+1])] += 1\n",
    "        i += 1\n",
    "    if l5 > 0:\n",
    "        matrix[0] = matrix[0] / l5\n",
    "    elif l5 == 0:\n",
    "        matrix[0] = [0.2, 0.2, 0.2, 0.2, 0.2]\n",
    "    if l2 > 0:\n",
    "        matrix[1] = matrix[1] / l2\n",
    "    elif l2 == 0:\n",
    "        matrix[1] = [0.2, 0.2, 0.2, 0.2, 0.2]\n",
    "    if b > 0:\n",
    "        matrix[2] = matrix[2] / b\n",
    "    elif b == 0:\n",
    "        matrix[2] = [0.2, 0.2, 0.2, 0.2, 0.2]\n",
    "    if m2 > 0:\n",
    "        matrix[3] = matrix[3] / m2\n",
    "    elif b == 0:\n",
    "        matrix[3] = [0.2, 0.2, 0.2, 0.2, 0.2]\n",
    "    if m5 > 0:\n",
    "        matrix[4] = matrix[4] / m5\n",
    "    elif m5 == 0:\n",
    "        matrix[4] = [0.2, 0.2, 0.2, 0.2, 0.2]\n",
    "    return matrix"
   ]
  },
  {
   "cell_type": "code",
   "execution_count": 25,
   "metadata": {},
   "outputs": [],
   "source": [
    "T1 = temp_matrix(diff1)\n",
    "T2 = temp_matrix(diff2)\n",
    "T3 = temp_matrix(diff3)\n",
    "T4 = temp_matrix(diff4)\n",
    "T5 = temp_matrix(diff5)\n",
    "T6 = temp_matrix(diff6)\n",
    "T7 = temp_matrix(diff7)\n",
    "T8 = temp_matrix(diff8)\n",
    "T9 = temp_matrix(diff9)\n",
    "T10 = temp_matrix(diff10)\n",
    "T11 = temp_matrix(diff11)\n",
    "T12 = temp_matrix(diff12)"
   ]
  },
  {
   "cell_type": "code",
   "execution_count": 26,
   "metadata": {},
   "outputs": [
    {
     "data": {
      "text/plain": [
       "array([[0.02597403, 0.03896104, 0.20779221, 0.2987013 , 0.42857143],\n",
       "       [0.04411765, 0.08823529, 0.33823529, 0.33088235, 0.19852941],\n",
       "       [0.08108108, 0.15945946, 0.57567568, 0.13783784, 0.04594595],\n",
       "       [0.13768116, 0.27536232, 0.49275362, 0.07246377, 0.02173913],\n",
       "       [0.24096386, 0.28915663, 0.3373494 , 0.09638554, 0.03614458]])"
      ]
     },
     "execution_count": 26,
     "metadata": {},
     "output_type": "execute_result"
    }
   ],
   "source": [
    "T1"
   ]
  },
  {
   "cell_type": "code",
   "execution_count": 27,
   "metadata": {},
   "outputs": [],
   "source": [
    "T = np.array([])\n",
    "T = np.append(T, T1)\n",
    "T = np.append(T, T2)\n",
    "T = np.append(T, T3)\n",
    "T = np.append(T, T4)\n",
    "T = np.append(T, T5)\n",
    "T = np.append(T, T6)\n",
    "T = np.append(T, T7)\n",
    "T = np.append(T, T8)\n",
    "T = np.append(T, T9)\n",
    "T = np.append(T, T10)\n",
    "T = np.append(T, T11)\n",
    "T = np.append(T, T12)"
   ]
  },
  {
   "cell_type": "code",
   "execution_count": 28,
   "metadata": {},
   "outputs": [],
   "source": [
    "T = np.reshape(T, (12,5,5))"
   ]
  },
  {
   "cell_type": "code",
   "execution_count": 29,
   "metadata": {},
   "outputs": [],
   "source": [
    "np.save('matrices/matrix2', T)  "
   ]
  },
  {
   "cell_type": "code",
   "execution_count": 30,
   "metadata": {},
   "outputs": [],
   "source": [
    "my_matrix2 = np.load(open(\"matrices/matrix2.npy\",\"rb\"))"
   ]
  },
  {
   "cell_type": "code",
   "execution_count": 31,
   "metadata": {},
   "outputs": [
    {
     "data": {
      "text/plain": [
       "array([[[0.02597403, 0.03896104, 0.20779221, 0.2987013 , 0.42857143],\n",
       "        [0.04411765, 0.08823529, 0.33823529, 0.33088235, 0.19852941],\n",
       "        [0.08108108, 0.15945946, 0.57567568, 0.13783784, 0.04594595],\n",
       "        [0.13768116, 0.27536232, 0.49275362, 0.07246377, 0.02173913],\n",
       "        [0.24096386, 0.28915663, 0.3373494 , 0.09638554, 0.03614458]],\n",
       "\n",
       "       [[0.        , 0.02531646, 0.10126582, 0.34177215, 0.53164557],\n",
       "        [0.0141844 , 0.04255319, 0.29787234, 0.5106383 , 0.13475177],\n",
       "        [0.09540636, 0.20141343, 0.49116608, 0.16254417, 0.04946996],\n",
       "        [0.18421053, 0.375     , 0.40131579, 0.02631579, 0.01315789],\n",
       "        [0.28571429, 0.24675325, 0.42857143, 0.02597403, 0.01298701]],\n",
       "\n",
       "       [[0.        , 0.04      , 0.1       , 0.23      , 0.63      ],\n",
       "        [0.01156069, 0.        , 0.19075145, 0.5433526 , 0.25433526],\n",
       "        [0.0995671 , 0.22077922, 0.47619048, 0.16017316, 0.04329004],\n",
       "        [0.23717949, 0.46153846, 0.29487179, 0.00641026, 0.        ],\n",
       "        [0.32478632, 0.4017094 , 0.27350427, 0.        , 0.        ]],\n",
       "\n",
       "       [[0.        , 0.        , 0.07894737, 0.1622807 , 0.75877193],\n",
       "        [0.        , 0.        , 0.19090909, 0.36363636, 0.44545455],\n",
       "        [0.14782609, 0.23478261, 0.3826087 , 0.14782609, 0.08695652],\n",
       "        [0.30107527, 0.47311828, 0.22580645, 0.        , 0.        ],\n",
       "        [0.7887931 , 0.16810345, 0.04310345, 0.        , 0.        ]],\n",
       "\n",
       "       [[0.0030303 , 0.00606061, 0.05757576, 0.0969697 , 0.83636364],\n",
       "        [0.01785714, 0.03571429, 0.17857143, 0.17857143, 0.58928571],\n",
       "        [0.1       , 0.2       , 0.36      , 0.14      , 0.2       ],\n",
       "        [0.60416667, 0.35416667, 0.04166667, 0.        , 0.        ],\n",
       "        [0.91875   , 0.078125  , 0.003125  , 0.        , 0.        ]],\n",
       "\n",
       "       [[0.        , 0.        , 0.03880597, 0.08955224, 0.87164179],\n",
       "        [0.        , 0.        , 0.175     , 0.15      , 0.675     ],\n",
       "        [0.18918919, 0.21621622, 0.32432432, 0.08108108, 0.18918919],\n",
       "        [0.61538462, 0.30769231, 0.07692308, 0.        , 0.        ],\n",
       "        [0.92966361, 0.06116208, 0.00917431, 0.        , 0.        ]],\n",
       "\n",
       "       [[0.        , 0.        , 0.01971831, 0.08450704, 0.89577465],\n",
       "        [0.        , 0.        , 0.08108108, 0.35135135, 0.56756757],\n",
       "        [0.19047619, 0.23809524, 0.23809524, 0.0952381 , 0.23809524],\n",
       "        [0.45652174, 0.41304348, 0.08695652, 0.02173913, 0.02173913],\n",
       "        [0.95652174, 0.03768116, 0.0057971 , 0.        , 0.        ]],\n",
       "\n",
       "       [[0.        , 0.0060423 , 0.05740181, 0.11480363, 0.82175227],\n",
       "        [0.        , 0.04255319, 0.12765957, 0.29787234, 0.53191489],\n",
       "        [0.05660377, 0.20754717, 0.32075472, 0.13207547, 0.28301887],\n",
       "        [0.56666667, 0.28333333, 0.11666667, 0.01666667, 0.01666667],\n",
       "        [0.93929712, 0.04792332, 0.01277955, 0.        , 0.        ]],\n",
       "\n",
       "       [[0.        , 0.00840336, 0.1092437 , 0.15546218, 0.72689076],\n",
       "        [0.01923077, 0.02884615, 0.20192308, 0.39423077, 0.35576923],\n",
       "        [0.09259259, 0.24074074, 0.37962963, 0.16666667, 0.12037037],\n",
       "        [0.31958763, 0.48453608, 0.1443299 , 0.01030928, 0.04123711],\n",
       "        [0.84415584, 0.11255411, 0.02597403, 0.004329  , 0.01298701]],\n",
       "\n",
       "       [[0.        , 0.01      , 0.11      , 0.36      , 0.52      ],\n",
       "        [0.00487805, 0.0195122 , 0.28780488, 0.48292683, 0.20487805],\n",
       "        [0.05069124, 0.31336406, 0.44239631, 0.14746544, 0.04608295],\n",
       "        [0.22093023, 0.50581395, 0.23837209, 0.01162791, 0.02325581],\n",
       "        [0.45454545, 0.40909091, 0.09090909, 0.03636364, 0.00909091]],\n",
       "\n",
       "       [[0.        , 0.        , 0.17647059, 0.47058824, 0.35294118],\n",
       "        [0.        , 0.04379562, 0.44525547, 0.45985401, 0.05109489],\n",
       "        [0.01476793, 0.1814346 , 0.68565401, 0.10970464, 0.00843882],\n",
       "        [0.06870229, 0.28244275, 0.59541985, 0.03816794, 0.01526718],\n",
       "        [0.05263158, 0.42105263, 0.36842105, 0.15789474, 0.        ]],\n",
       "\n",
       "       [[0.        , 0.05263158, 0.34210526, 0.28947368, 0.31578947],\n",
       "        [0.01709402, 0.03418803, 0.55555556, 0.27350427, 0.11965812],\n",
       "        [0.04417671, 0.16465863, 0.66064257, 0.10843373, 0.02208835],\n",
       "        [0.0625    , 0.16964286, 0.63392857, 0.11607143, 0.01785714],\n",
       "        [0.17948718, 0.25641026, 0.48717949, 0.05128205, 0.02564103]]])"
      ]
     },
     "execution_count": 31,
     "metadata": {},
     "output_type": "execute_result"
    }
   ],
   "source": [
    "my_matrix2"
   ]
  },
  {
   "cell_type": "code",
   "execution_count": 32,
   "metadata": {},
   "outputs": [],
   "source": [
    "test = np.array([0.3, 0.7, 0, 0]) @ M5 "
   ]
  },
  {
   "cell_type": "code",
   "execution_count": 33,
   "metadata": {},
   "outputs": [],
   "source": [
    "list1 = ['Ясно', 'Облачно', 'Дождь', 'Снег',]"
   ]
  },
  {
   "cell_type": "code",
   "execution_count": 34,
   "metadata": {},
   "outputs": [],
   "source": [
    "from functools import cmp_to_key\n",
    "\n",
    "def my_cmp(a, b):\n",
    "    return b[0] - a[0]\n",
    "\n",
    "def translation1(vector):\n",
    "    maximum = max(vector)\n",
    "    res1 = []\n",
    "    res2 = []\n",
    "    vector = vector / maximum\n",
    "    support = [(vector[i], int(i)) for i in range(len(vector))]\n",
    "    support = sorted(support, key=cmp_to_key(my_cmp))\n",
    "    print(support)\n",
    "    names = list1[:4]\n",
    "    i = 0\n",
    "    while i < len(vector):\n",
    "        if support[i][0] > 0.8:\n",
    "            res1.append(names[support[i][1]])\n",
    "        elif support[i][0] >= 0.5:\n",
    "            res2.append(names[support[i][1]])\n",
    "        i += 1\n",
    "    return res1, res2"
   ]
  },
  {
   "cell_type": "code",
   "execution_count": 35,
   "metadata": {},
   "outputs": [
    {
     "name": "stdout",
     "output_type": "stream",
     "text": [
      "[(1.0, 0), (0.9237920196047094, 1), (0.8834771722337648, 2), (0.009043204943796282, 3)]\n"
     ]
    }
   ],
   "source": [
    "d1, d2 = translation1(test)"
   ]
  },
  {
   "cell_type": "code",
   "execution_count": 36,
   "metadata": {},
   "outputs": [
    {
     "data": {
      "text/plain": [
       "array([0.35507425, 0.32801475, 0.31369999, 0.00321101])"
      ]
     },
     "execution_count": 36,
     "metadata": {},
     "output_type": "execute_result"
    }
   ],
   "source": [
    "test"
   ]
  },
  {
   "cell_type": "code",
   "execution_count": 37,
   "metadata": {},
   "outputs": [],
   "source": [
    "name = ''\n",
    "for i in d1+d2:\n",
    "    name += i + ', '"
   ]
  },
  {
   "cell_type": "code",
   "execution_count": 38,
   "metadata": {},
   "outputs": [
    {
     "data": {
      "text/plain": [
       "'Ясно, Облачно, Дождь, '"
      ]
     },
     "execution_count": 38,
     "metadata": {},
     "output_type": "execute_result"
    }
   ],
   "source": [
    "name"
   ]
  },
  {
   "cell_type": "code",
   "execution_count": null,
   "metadata": {},
   "outputs": [],
   "source": []
  }
 ],
 "metadata": {
  "interpreter": {
   "hash": "b0fa6594d8f4cbf19f97940f81e996739fb7646882a419484c72d19e05852a7e"
  },
  "kernelspec": {
   "display_name": "Python 3.9.10 64-bit",
   "language": "python",
   "name": "python3"
  },
  "language_info": {
   "codemirror_mode": {
    "name": "ipython",
    "version": 3
   },
   "file_extension": ".py",
   "mimetype": "text/x-python",
   "name": "python",
   "nbconvert_exporter": "python",
   "pygments_lexer": "ipython3",
   "version": "3.9.10"
  }
 },
 "nbformat": 4,
 "nbformat_minor": 2
}
